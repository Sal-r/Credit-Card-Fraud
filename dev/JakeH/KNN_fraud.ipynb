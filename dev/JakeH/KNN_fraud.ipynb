{
 "cells": [
  {
   "cell_type": "code",
   "execution_count": 33,
   "metadata": {},
   "outputs": [],
   "source": [
    "import pandas as pd\n",
    "import numpy as np\n",
    "import matplotlib.pyplot as plt\n",
    "\n",
    "from sklearn.model_selection import train_test_split\n",
    "from sklearn.neighbors import KNeighborsClassifier"
   ]
  },
  {
   "cell_type": "code",
   "execution_count": 34,
   "metadata": {},
   "outputs": [],
   "source": [
    "full_df = pd.read_csv(\"creditcard.csv\")\n",
    "full_df.drop(columns='Time', inplace=True)"
   ]
  },
  {
   "cell_type": "code",
   "execution_count": 35,
   "metadata": {},
   "outputs": [],
   "source": [
    "fraud_df = full_df.loc[full_df['Class'] == 1]\n",
    "fraud_df = fraud_df.reset_index(drop=True)"
   ]
  },
  {
   "cell_type": "code",
   "execution_count": 36,
   "metadata": {},
   "outputs": [],
   "source": [
    "not_fraud_df = full_df.loc[full_df['Class']==0]\n",
    "not_fraud_df = not_fraud_df.sample(n=492, random_state=1)\n",
    "not_fraud_df = not_fraud_df.reset_index(drop=True)"
   ]
  },
  {
   "cell_type": "code",
   "execution_count": 37,
   "metadata": {},
   "outputs": [],
   "source": [
    "new_df = fraud_df.append(not_fraud_df, ignore_index=True)"
   ]
  },
  {
   "cell_type": "code",
   "execution_count": 38,
   "metadata": {},
   "outputs": [],
   "source": [
    "X = np.array(new_df.iloc[:, 0:29])\n",
    "y = np.array(new_df['Class'])"
   ]
  },
  {
   "cell_type": "code",
   "execution_count": 39,
   "metadata": {},
   "outputs": [],
   "source": [
    "X_train, X_test, y_train, y_test = train_test_split(X, y, random_state=8)"
   ]
  },
  {
   "cell_type": "code",
   "execution_count": 40,
   "metadata": {},
   "outputs": [],
   "source": [
    "from sklearn.preprocessing import StandardScaler\n",
    "\n",
    "# Create a StandardScater model and fit it to the training data\n",
    "\n",
    "X_scaler = StandardScaler().fit(X_train)"
   ]
  },
  {
   "cell_type": "code",
   "execution_count": 41,
   "metadata": {},
   "outputs": [
    {
     "data": {
      "text/plain": [
       "array([-2.34408351e+00,  1.72593393e+00, -3.50385541e+00,  2.29267577e+00,\n",
       "       -1.54495917e+00, -6.50459379e-01, -2.78214890e+00,  1.19691930e-01,\n",
       "       -1.30969009e+00, -2.83966132e+00,  1.91962177e+00, -3.14408932e+00,\n",
       "       -1.10163300e-01, -3.49359711e+00, -8.06684127e-02, -2.10348740e+00,\n",
       "       -3.30592438e+00, -1.11337771e+00,  3.25509126e-01,  2.50819217e-01,\n",
       "        3.78225637e-01,  1.51904313e-02,  6.24401137e-03, -7.19934149e-02,\n",
       "       -4.12114447e-03,  3.59386194e-02,  1.10556182e-01,  5.51107653e-02,\n",
       "        1.20457141e+02])"
      ]
     },
     "execution_count": 41,
     "metadata": {},
     "output_type": "execute_result"
    }
   ],
   "source": [
    "X_scaler.mean_"
   ]
  },
  {
   "cell_type": "code",
   "execution_count": 42,
   "metadata": {},
   "outputs": [
    {
     "data": {
      "text/plain": [
       "array([  5.45764703,   3.76645048,   6.18928462,   3.21728003,\n",
       "         4.08145619,   1.75706299,   5.99535122,   5.17581596,\n",
       "         2.28457207,   4.59228069,   2.82188534,   4.5992702 ,\n",
       "         1.06289144,   4.70213844,   0.99883533,   3.4612777 ,\n",
       "         5.85696658,   2.37151553,   1.29637271,   1.14153015,\n",
       "         3.10464695,   1.25964297,   1.15804066,   0.56729736,\n",
       "         0.68061652,   0.48298716,   1.01428274,   0.41543883,\n",
       "       281.93751809])"
      ]
     },
     "execution_count": 42,
     "metadata": {},
     "output_type": "execute_result"
    }
   ],
   "source": [
    "X_scaler.scale_"
   ]
  },
  {
   "cell_type": "code",
   "execution_count": 43,
   "metadata": {},
   "outputs": [],
   "source": [
    "# Transform the training and testing data using the X_scaler model\n",
    "\n",
    "X_train_scaled = X_scaler.transform(X_train)\n",
    "X_test_scaled = X_scaler.transform(X_test)"
   ]
  },
  {
   "cell_type": "code",
   "execution_count": 44,
   "metadata": {},
   "outputs": [
    {
     "name": "stdout",
     "output_type": "stream",
     "text": [
      "k: 1, Train/Test Score: 1.000/0.935\n",
      "k: 3, Train/Test Score: 0.946/0.951\n",
      "k: 5, Train/Test Score: 0.936/0.935\n",
      "k: 7, Train/Test Score: 0.927/0.935\n",
      "k: 9, Train/Test Score: 0.920/0.939\n",
      "k: 11, Train/Test Score: 0.921/0.939\n",
      "k: 13, Train/Test Score: 0.917/0.943\n",
      "k: 15, Train/Test Score: 0.917/0.939\n",
      "k: 17, Train/Test Score: 0.916/0.935\n",
      "k: 19, Train/Test Score: 0.916/0.935\n"
     ]
    },
    {
     "data": {
      "image/png": "[encoded data removed]",
      "text/plain": [
       "<Figure size 432x288 with 1 Axes>"
      ]
     },
     "metadata": {},
     "output_type": "display_data"
    }
   ],
   "source": [
    "train_scores = []\n",
    "test_scores = []\n",
    "for k in range(1, 21, 2):\n",
    "    knn = KNeighborsClassifier(n_neighbors=k)\n",
    "    knn.fit(X_train_scaled, y_train)\n",
    "    train_score = knn.score(X_train_scaled, y_train)\n",
    "    test_score = knn.score(X_test_scaled, y_test)\n",
    "    train_scores.append(train_score)\n",
    "    test_scores.append(test_score)\n",
    "    print(f\"k: {k}, Train/Test Score: {train_score:.3f}/{test_score:.3f}\")\n",
    "    \n",
    "    \n",
    "plt.plot(range(1, 21, 2), train_scores, marker='o')\n",
    "plt.plot(range(1, 21, 2), test_scores, marker=\"x\")\n",
    "plt.xlabel(\"k neighbors\")\n",
    "plt.ylabel(\"Testing accuracy Score\")\n",
    "plt.show()"
   ]
  },
  {
   "cell_type": "code",
   "execution_count": null,
   "metadata": {},
   "outputs": [],
   "source": []
  }
 ],
 "metadata": {
  "kernelspec": {
   "display_name": "Python 3",
   "language": "python",
   "name": "python3"
  },
  "language_info": {
   "codemirror_mode": {
    "name": "ipython",
    "version": 3
   },
   "file_extension": ".py",
   "mimetype": "text/x-python",
   "name": "python",
   "nbconvert_exporter": "python",
   "pygments_lexer": "ipython3",
   "version": "3.6.10"
  }
 },
 "nbformat": 4,
 "nbformat_minor": 2
}
