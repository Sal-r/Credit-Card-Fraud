{
 "cells": [
  {
   "cell_type": "code",
   "execution_count": 1,
   "metadata": {},
   "outputs": [],
   "source": [
    "import pandas as pd\n",
    "import sklearn\n",
    "from sklearn.model_selection import train_test_split\n",
    "from sklearn.preprocessing import MinMaxScaler\n",
    "import matplotlib.pyplot as plt\n",
    "import numpy as np\n",
    "from tensorflow.keras.models import Sequential\n",
    "from tensorflow.keras.layers import Dense\n",
    "from tensorflow.keras.utils import to_categorical\n",
    "from tensorflow.keras.metrics import Precision, Recall\n",
    "from tensorflow.keras.models import load_model\n",
    "from tensorflow import math"
   ]
  },
  {
   "cell_type": "code",
   "execution_count": 2,
   "metadata": {},
   "outputs": [],
   "source": [
    "full_df = pd.read_csv(\"../../Data/creditcard.csv\")\n",
    "full_df.drop(columns='Time', inplace=True)"
   ]
  },
  {
   "cell_type": "code",
   "execution_count": 3,
   "metadata": {},
   "outputs": [],
   "source": [
    "fraud_df = full_df.loc[full_df['Class'] == 1]\n",
    "fraud_df = fraud_df.reset_index(drop=True)"
   ]
  },
  {
   "cell_type": "code",
   "execution_count": 4,
   "metadata": {},
   "outputs": [],
   "source": [
    "not_fraud_df = full_df.loc[full_df['Class']==0]\n",
    "not_fraud_df = not_fraud_df.sample(n=492, random_state=1)\n",
    "not_fraud_df = not_fraud_df.reset_index(drop=True)"
   ]
  },
  {
   "cell_type": "code",
   "execution_count": 5,
   "metadata": {},
   "outputs": [],
   "source": [
    "new_df = fraud_df.append(not_fraud_df, ignore_index=True)"
   ]
  },
  {
   "cell_type": "code",
   "execution_count": 6,
   "metadata": {},
   "outputs": [],
   "source": [
    "X = np.array(new_df.iloc[:, 0:29])\n",
    "y = np.array(new_df['Class'])"
   ]
  },
  {
   "cell_type": "code",
   "execution_count": 7,
   "metadata": {},
   "outputs": [],
   "source": [
    "X_train, X_test, y_train, y_test = train_test_split(X, y, random_state=8)"
   ]
  },
  {
   "cell_type": "code",
   "execution_count": 8,
   "metadata": {},
   "outputs": [],
   "source": [
    "X_scaler = MinMaxScaler(feature_range=(0,1)).fit(X_train)"
   ]
  },
  {
   "cell_type": "code",
   "execution_count": 9,
   "metadata": {},
   "outputs": [],
   "source": [
    "X_train_scaled = X_scaler.transform(X_train)\n",
    "X_test_scaled = X_scaler.transform(X_test)"
   ]
  },
  {
   "cell_type": "code",
   "execution_count": 10,
   "metadata": {},
   "outputs": [],
   "source": [
    "y_train_categorical = to_categorical(y_train)\n",
    "y_test_categorical = to_categorical(y_test)"
   ]
  },
  {
   "cell_type": "code",
   "execution_count": 11,
   "metadata": {},
   "outputs": [],
   "source": [
    "model = Sequential()\n",
    "model.add(Dense(units=87, activation='relu', input_dim=29))\n",
    "model.add(Dense(units=87, activation='relu'))\n",
    "model.add(Dense(units=2, activation='softmax'))"
   ]
  },
  {
   "cell_type": "code",
   "execution_count": 12,
   "metadata": {},
   "outputs": [],
   "source": [
    "model.compile(optimizer='adam',\n",
    "             loss='categorical_crossentropy',\n",
    "             metrics=['accuracy'])"
   ]
  },
  {
   "cell_type": "code",
   "execution_count": 13,
   "metadata": {},
   "outputs": [
    {
     "name": "stdout",
     "output_type": "stream",
     "text": [
      "Train on 738 samples\n",
      "Epoch 1/100\n",
      "738/738 - 2s - loss: 0.6146 - accuracy: 0.7425\n",
      "Epoch 2/100\n",
      "738/738 - 0s - loss: 0.4731 - accuracy: 0.8753\n",
      "Epoch 3/100\n",
      "738/738 - 0s - loss: 0.3603 - accuracy: 0.8835\n",
      "Epoch 4/100\n",
      "738/738 - 0s - loss: 0.3106 - accuracy: 0.8930\n",
      "Epoch 5/100\n",
      "738/738 - 0s - loss: 0.2592 - accuracy: 0.9119\n",
      "Epoch 6/100\n",
      "738/738 - 0s - loss: 0.2561 - accuracy: 0.9173\n",
      "Epoch 7/100\n",
      "738/738 - 0s - loss: 0.2214 - accuracy: 0.9160\n",
      "Epoch 8/100\n",
      "738/738 - 0s - loss: 0.2096 - accuracy: 0.9282\n",
      "Epoch 9/100\n",
      "738/738 - 0s - loss: 0.2031 - accuracy: 0.9201\n",
      "Epoch 10/100\n",
      "738/738 - 0s - loss: 0.2001 - accuracy: 0.9295\n",
      "Epoch 11/100\n",
      "738/738 - 0s - loss: 0.1962 - accuracy: 0.9268\n",
      "Epoch 12/100\n",
      "738/738 - 0s - loss: 0.2093 - accuracy: 0.9187\n",
      "Epoch 13/100\n",
      "738/738 - 0s - loss: 0.1928 - accuracy: 0.9214\n",
      "Epoch 14/100\n",
      "738/738 - 0s - loss: 0.1977 - accuracy: 0.9255\n",
      "Epoch 15/100\n",
      "738/738 - 0s - loss: 0.1912 - accuracy: 0.9241\n",
      "Epoch 16/100\n",
      "738/738 - 0s - loss: 0.1826 - accuracy: 0.9241\n",
      "Epoch 17/100\n",
      "738/738 - 0s - loss: 0.1875 - accuracy: 0.9282\n",
      "Epoch 18/100\n",
      "738/738 - 0s - loss: 0.1848 - accuracy: 0.9322\n",
      "Epoch 19/100\n",
      "738/738 - 0s - loss: 0.1827 - accuracy: 0.9268\n",
      "Epoch 20/100\n",
      "738/738 - 0s - loss: 0.2122 - accuracy: 0.9173\n",
      "Epoch 21/100\n",
      "738/738 - 0s - loss: 0.1787 - accuracy: 0.9309\n",
      "Epoch 22/100\n",
      "738/738 - 0s - loss: 0.1731 - accuracy: 0.9350\n",
      "Epoch 23/100\n",
      "738/738 - 0s - loss: 0.1684 - accuracy: 0.9350\n",
      "Epoch 24/100\n",
      "738/738 - 0s - loss: 0.1678 - accuracy: 0.9350\n",
      "Epoch 25/100\n",
      "738/738 - 0s - loss: 0.1685 - accuracy: 0.9363\n",
      "Epoch 26/100\n",
      "738/738 - 0s - loss: 0.1771 - accuracy: 0.9295\n",
      "Epoch 27/100\n",
      "738/738 - 0s - loss: 0.1685 - accuracy: 0.9309\n",
      "Epoch 28/100\n",
      "738/738 - 0s - loss: 0.1650 - accuracy: 0.9350\n",
      "Epoch 29/100\n",
      "738/738 - 0s - loss: 0.1841 - accuracy: 0.9309\n",
      "Epoch 30/100\n",
      "738/738 - 0s - loss: 0.2201 - accuracy: 0.9119\n",
      "Epoch 31/100\n",
      "738/738 - 0s - loss: 0.1697 - accuracy: 0.9322\n",
      "Epoch 32/100\n",
      "738/738 - 0s - loss: 0.1628 - accuracy: 0.9322\n",
      "Epoch 33/100\n",
      "738/738 - 0s - loss: 0.1736 - accuracy: 0.9350\n",
      "Epoch 34/100\n",
      "738/738 - 0s - loss: 0.1798 - accuracy: 0.9350\n",
      "Epoch 35/100\n",
      "738/738 - 0s - loss: 0.1714 - accuracy: 0.9295\n",
      "Epoch 36/100\n",
      "738/738 - 0s - loss: 0.1648 - accuracy: 0.9390\n",
      "Epoch 37/100\n",
      "738/738 - 0s - loss: 0.1625 - accuracy: 0.9350\n",
      "Epoch 38/100\n",
      "738/738 - 0s - loss: 0.1708 - accuracy: 0.9282\n",
      "Epoch 39/100\n",
      "738/738 - 0s - loss: 0.1903 - accuracy: 0.9390\n",
      "Epoch 40/100\n",
      "738/738 - 0s - loss: 0.1706 - accuracy: 0.9390\n",
      "Epoch 41/100\n",
      "738/738 - 0s - loss: 0.1550 - accuracy: 0.9417\n",
      "Epoch 42/100\n",
      "738/738 - 0s - loss: 0.1663 - accuracy: 0.9322\n",
      "Epoch 43/100\n",
      "738/738 - 0s - loss: 0.1571 - accuracy: 0.9417\n",
      "Epoch 44/100\n",
      "738/738 - 0s - loss: 0.1618 - accuracy: 0.9363\n",
      "Epoch 45/100\n",
      "738/738 - 0s - loss: 0.1757 - accuracy: 0.9295\n",
      "Epoch 46/100\n",
      "738/738 - 0s - loss: 0.1938 - accuracy: 0.9309\n",
      "Epoch 47/100\n",
      "738/738 - 0s - loss: 0.1695 - accuracy: 0.9322\n",
      "Epoch 48/100\n",
      "738/738 - 0s - loss: 0.1596 - accuracy: 0.9417\n",
      "Epoch 49/100\n",
      "738/738 - 0s - loss: 0.1920 - accuracy: 0.9241\n",
      "Epoch 50/100\n",
      "738/738 - 0s - loss: 0.1610 - accuracy: 0.9336\n",
      "Epoch 51/100\n",
      "738/738 - 0s - loss: 0.1576 - accuracy: 0.9363\n",
      "Epoch 52/100\n",
      "738/738 - 0s - loss: 0.1555 - accuracy: 0.9417\n",
      "Epoch 53/100\n",
      "738/738 - 0s - loss: 0.1545 - accuracy: 0.9363\n",
      "Epoch 54/100\n",
      "738/738 - 0s - loss: 0.1824 - accuracy: 0.9350\n",
      "Epoch 55/100\n",
      "738/738 - 0s - loss: 0.1604 - accuracy: 0.9363\n",
      "Epoch 56/100\n",
      "738/738 - 0s - loss: 0.2244 - accuracy: 0.9119\n",
      "Epoch 57/100\n",
      "738/738 - 0s - loss: 0.1729 - accuracy: 0.9390\n",
      "Epoch 58/100\n",
      "738/738 - 0s - loss: 0.1583 - accuracy: 0.9485\n",
      "Epoch 59/100\n",
      "738/738 - 0s - loss: 0.1542 - accuracy: 0.9390\n",
      "Epoch 60/100\n",
      "738/738 - 0s - loss: 0.1790 - accuracy: 0.9322\n",
      "Epoch 61/100\n",
      "738/738 - 0s - loss: 0.2076 - accuracy: 0.9187\n",
      "Epoch 62/100\n",
      "738/738 - 0s - loss: 0.2114 - accuracy: 0.9255\n",
      "Epoch 63/100\n",
      "738/738 - 0s - loss: 0.1656 - accuracy: 0.9390\n",
      "Epoch 64/100\n",
      "738/738 - 0s - loss: 0.1570 - accuracy: 0.9458\n",
      "Epoch 65/100\n",
      "738/738 - 0s - loss: 0.1557 - accuracy: 0.9417\n",
      "Epoch 66/100\n",
      "738/738 - 0s - loss: 0.1668 - accuracy: 0.9309\n",
      "Epoch 67/100\n",
      "738/738 - 0s - loss: 0.1631 - accuracy: 0.9350\n",
      "Epoch 68/100\n",
      "738/738 - 0s - loss: 0.1489 - accuracy: 0.9458\n",
      "Epoch 69/100\n",
      "738/738 - 0s - loss: 0.1485 - accuracy: 0.9417\n",
      "Epoch 70/100\n",
      "738/738 - 0s - loss: 0.1693 - accuracy: 0.9417\n",
      "Epoch 71/100\n",
      "738/738 - 0s - loss: 0.1489 - accuracy: 0.9458\n",
      "Epoch 72/100\n",
      "738/738 - 0s - loss: 0.1564 - accuracy: 0.9377\n",
      "Epoch 73/100\n",
      "738/738 - 0s - loss: 0.1760 - accuracy: 0.9350\n",
      "Epoch 74/100\n",
      "738/738 - 0s - loss: 0.1678 - accuracy: 0.9390\n",
      "Epoch 75/100\n",
      "738/738 - 0s - loss: 0.1558 - accuracy: 0.9404\n",
      "Epoch 76/100\n",
      "738/738 - 0s - loss: 0.1515 - accuracy: 0.9431\n",
      "Epoch 77/100\n",
      "738/738 - 0s - loss: 0.1842 - accuracy: 0.9336\n",
      "Epoch 78/100\n",
      "738/738 - 0s - loss: 0.1703 - accuracy: 0.9431\n",
      "Epoch 79/100\n",
      "738/738 - 0s - loss: 0.1520 - accuracy: 0.9350\n",
      "Epoch 80/100\n",
      "738/738 - 0s - loss: 0.1486 - accuracy: 0.9417\n",
      "Epoch 81/100\n",
      "738/738 - 0s - loss: 0.1920 - accuracy: 0.9255\n",
      "Epoch 82/100\n",
      "738/738 - 0s - loss: 0.1568 - accuracy: 0.9417\n",
      "Epoch 83/100\n",
      "738/738 - 0s - loss: 0.1566 - accuracy: 0.9336\n",
      "Epoch 84/100\n",
      "738/738 - 0s - loss: 0.1471 - accuracy: 0.9417\n",
      "Epoch 85/100\n",
      "738/738 - 0s - loss: 0.1441 - accuracy: 0.9458\n",
      "Epoch 86/100\n",
      "738/738 - 0s - loss: 0.1501 - accuracy: 0.9350\n",
      "Epoch 87/100\n",
      "738/738 - 0s - loss: 0.1593 - accuracy: 0.9404\n",
      "Epoch 88/100\n",
      "738/738 - 0s - loss: 0.1465 - accuracy: 0.9417\n",
      "Epoch 89/100\n",
      "738/738 - 0s - loss: 0.1486 - accuracy: 0.9417\n",
      "Epoch 90/100\n",
      "738/738 - 0s - loss: 0.1445 - accuracy: 0.9444\n",
      "Epoch 91/100\n",
      "738/738 - 0s - loss: 0.1432 - accuracy: 0.9444\n",
      "Epoch 92/100\n",
      "738/738 - 0s - loss: 0.1413 - accuracy: 0.9458\n",
      "Epoch 93/100\n",
      "738/738 - 0s - loss: 0.1436 - accuracy: 0.9499\n",
      "Epoch 94/100\n",
      "738/738 - 0s - loss: 0.1767 - accuracy: 0.9417\n",
      "Epoch 95/100\n",
      "738/738 - 0s - loss: 0.1594 - accuracy: 0.9404\n",
      "Epoch 96/100\n",
      "738/738 - 0s - loss: 0.1540 - accuracy: 0.9417\n",
      "Epoch 97/100\n",
      "738/738 - 0s - loss: 0.1465 - accuracy: 0.9431\n",
      "Epoch 98/100\n",
      "738/738 - 0s - loss: 0.1408 - accuracy: 0.9512\n",
      "Epoch 99/100\n",
      "738/738 - 0s - loss: 0.1593 - accuracy: 0.9417\n",
      "Epoch 100/100\n",
      "738/738 - 0s - loss: 0.1428 - accuracy: 0.9472\n"
     ]
    },
    {
     "data": {
      "text/plain": [
       "<tensorflow.python.keras.callbacks.History at 0x13f850749e8>"
      ]
     },
     "execution_count": 13,
     "metadata": {},
     "output_type": "execute_result"
    }
   ],
   "source": [
    "model.fit(\n",
    "    X_train_scaled,\n",
    "    y_train_categorical,\n",
    "    epochs=100,\n",
    "    shuffle=True,\n",
    "    verbose=2\n",
    ")"
   ]
  },
  {
   "cell_type": "code",
   "execution_count": 14,
   "metadata": {},
   "outputs": [
    {
     "name": "stdout",
     "output_type": "stream",
     "text": [
      "246/246 - 1s - loss: 0.1438 - accuracy: 0.9512\n",
      "Loss: 0.14378287982407625, Accuracy: 0.9512194991111755\n"
     ]
    }
   ],
   "source": [
    "model_loss, model_accuracy = model.evaluate(\n",
    "    X_test_scaled, y_test_categorical, verbose=2)\n",
    "\n",
    "print(f\"Loss: {model_loss}, Accuracy: {model_accuracy}\")"
   ]
  },
  {
   "cell_type": "code",
   "execution_count": 15,
   "metadata": {},
   "outputs": [
    {
     "data": {
      "text/plain": [
       "<matplotlib.axes._subplots.AxesSubplot at 0x13f84888898>"
      ]
     },
     "execution_count": 15,
     "metadata": {},
     "output_type": "execute_result"
    },
    {
     "data": {
      "image/png": "[encoded data removed]",
      "text/plain": [
       "<Figure size 720x360 with 2 Axes>"
      ]
     },
     "metadata": {
      "needs_background": "light"
     },
     "output_type": "display_data"
    }
   ],
   "source": [
    "from sklearn.metrics import confusion_matrix\n",
    "import seaborn as sns\n",
    "\n",
    "cm=confusion_matrix(y_test_categorical.argmax(axis=1),model.predict(X_test_scaled).argmax(axis=1))\n",
    "df_cm = pd.DataFrame(cm, range(2),\n",
    "                    range(2))\n",
    "plt.figure(figsize = (10,5))\n",
    "sns.set(font_scale=1.4)#for label size\n",
    "sns.heatmap(df_cm, annot=True,annot_kws={\"size\": 16})# font size"
   ]
  },
  {
   "cell_type": "code",
   "execution_count": 16,
   "metadata": {},
   "outputs": [
    {
     "data": {
      "text/plain": [
       "array([[126,   0],\n",
       "       [ 12, 108]], dtype=int64)"
      ]
     },
     "execution_count": 16,
     "metadata": {},
     "output_type": "execute_result"
    }
   ],
   "source": [
    "cm"
   ]
  },
  {
   "cell_type": "code",
   "execution_count": 18,
   "metadata": {},
   "outputs": [],
   "source": [
    "model.save(\"deepmodel.h5\")"
   ]
  },
  {
   "cell_type": "code",
   "execution_count": null,
   "metadata": {},
   "outputs": [],
   "source": []
  }
 ],
 "metadata": {
  "kernelspec": {
   "display_name": "Python 3",
   "language": "python",
   "name": "python3"
  },
  "language_info": {
   "codemirror_mode": {
    "name": "ipython",
    "version": 3
   },
   "file_extension": ".py",
   "mimetype": "text/x-python",
   "name": "python",
   "nbconvert_exporter": "python",
   "pygments_lexer": "ipython3",
   "version": "3.6.10"
  }
 },
 "nbformat": 4,
 "nbformat_minor": 4
}
