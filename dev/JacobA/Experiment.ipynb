{
 "cells": [
  {
   "cell_type": "code",
   "execution_count": 1,
   "metadata": {},
   "outputs": [],
   "source": [
    "import pandas as pd\n",
    "import sklearn\n",
    "from sklearn.model_selection import train_test_split\n",
    "from sklearn.preprocessing import MinMaxScaler\n",
    "import matplotlib.pyplot as plt\n",
    "import numpy as np\n",
    "from tensorflow.keras.models import Sequential\n",
    "from tensorflow.keras.layers import Dense\n",
    "from tensorflow.keras.utils import to_categorical\n",
    "from tensorflow.keras.metrics import Precision, Recall\n",
    "from tensorflow.keras.models import load_model\n",
    "from tensorflow import math"
   ]
  },
  {
   "cell_type": "code",
   "execution_count": 2,
   "metadata": {},
   "outputs": [],
   "source": [
    "full_df = pd.read_csv(\"../../Data/creditcard.csv\")\n",
    "full_df.drop(columns='Time', inplace=True)"
   ]
  },
  {
   "cell_type": "code",
   "execution_count": 3,
   "metadata": {},
   "outputs": [],
   "source": [
    "fraud_df = full_df.loc[full_df['Class'] == 1]\n",
    "fraud_df = fraud_df.reset_index(drop=True)\n",
    "\n",
    "fraud_df_copy1 = fraud_df.copy()\n",
    "fraud_df_copy2 = fraud_df.copy()\n",
    "fraud_df_copy3 = fraud_df.copy()\n",
    "fraud_df_copy4 = fraud_df.copy()\n",
    "\n",
    "dfs = [fraud_df, fraud_df_copy1, fraud_df_copy2, fraud_df_copy3, fraud_df_copy4]\n",
    "\n",
    "merge_df = pd.concat(dfs, ignore_index=True)"
   ]
  },
  {
   "cell_type": "code",
   "execution_count": 4,
   "metadata": {},
   "outputs": [],
   "source": [
    "not_fraud_df = full_df.loc[full_df['Class']==0]\n",
    "not_fraud_df = not_fraud_df.sample(n=2460, random_state=1)\n",
    "not_fraud_df = not_fraud_df.reset_index(drop=True)"
   ]
  },
  {
   "cell_type": "code",
   "execution_count": 5,
   "metadata": {},
   "outputs": [],
   "source": [
    "new_df = merge_df.append(not_fraud_df, ignore_index=True)"
   ]
  },
  {
   "cell_type": "code",
   "execution_count": 6,
   "metadata": {},
   "outputs": [],
   "source": [
    "X = np.array(new_df.iloc[:, np.r_[0:19, 28]])\n",
    "y = np.array(new_df['Class'])"
   ]
  },
  {
   "cell_type": "code",
   "execution_count": 7,
   "metadata": {},
   "outputs": [],
   "source": [
    "X_train, X_test, y_train, y_test = train_test_split(X, y, random_state=8)"
   ]
  },
  {
   "cell_type": "code",
   "execution_count": 8,
   "metadata": {},
   "outputs": [],
   "source": [
    "X_scaler = MinMaxScaler(feature_range=(0,1)).fit(X_train)"
   ]
  },
  {
   "cell_type": "code",
   "execution_count": 9,
   "metadata": {},
   "outputs": [],
   "source": [
    "X_train_scaled = X_scaler.transform(X_train)\n",
    "X_test_scaled = X_scaler.transform(X_test)"
   ]
  },
  {
   "cell_type": "code",
   "execution_count": 10,
   "metadata": {},
   "outputs": [],
   "source": [
    "y_train_categorical = to_categorical(y_train)\n",
    "y_test_categorical = to_categorical(y_test)"
   ]
  },
  {
   "cell_type": "code",
   "execution_count": 11,
   "metadata": {},
   "outputs": [],
   "source": [
    "model = Sequential()\n",
    "model.add(Dense(units=60, activation='relu', input_dim=20))\n",
    "model.add(Dense(units=2, activation='softmax'))"
   ]
  },
  {
   "cell_type": "code",
   "execution_count": 12,
   "metadata": {},
   "outputs": [],
   "source": [
    "model.compile(optimizer='adam',\n",
    "             loss='categorical_crossentropy',\n",
    "             metrics=['accuracy'])"
   ]
  },
  {
   "cell_type": "code",
   "execution_count": 13,
   "metadata": {},
   "outputs": [
    {
     "name": "stdout",
     "output_type": "stream",
     "text": [
      "Train on 3690 samples\n",
      "Epoch 1/100\n",
      "3690/3690 - 3s - loss: 0.5658 - accuracy: 0.7688\n",
      "Epoch 2/100\n",
      "3690/3690 - 1s - loss: 0.3637 - accuracy: 0.8894\n",
      "Epoch 3/100\n",
      "3690/3690 - 1s - loss: 0.2787 - accuracy: 0.9084\n",
      "Epoch 4/100\n",
      "3690/3690 - 1s - loss: 0.2414 - accuracy: 0.9133\n",
      "Epoch 5/100\n",
      "3690/3690 - 1s - loss: 0.2196 - accuracy: 0.9217\n",
      "Epoch 6/100\n",
      "3690/3690 - 1s - loss: 0.2078 - accuracy: 0.9228\n",
      "Epoch 7/100\n",
      "3690/3690 - 1s - loss: 0.1978 - accuracy: 0.9287\n",
      "Epoch 8/100\n",
      "3690/3690 - 1s - loss: 0.1916 - accuracy: 0.9301\n",
      "Epoch 9/100\n",
      "3690/3690 - 0s - loss: 0.1873 - accuracy: 0.9301\n",
      "Epoch 10/100\n",
      "3690/3690 - 0s - loss: 0.1873 - accuracy: 0.9285\n",
      "Epoch 11/100\n",
      "3690/3690 - 0s - loss: 0.1852 - accuracy: 0.9287\n",
      "Epoch 12/100\n",
      "3690/3690 - 0s - loss: 0.1796 - accuracy: 0.9309\n",
      "Epoch 13/100\n",
      "3690/3690 - 1s - loss: 0.1816 - accuracy: 0.9274\n",
      "Epoch 14/100\n",
      "3690/3690 - 0s - loss: 0.1764 - accuracy: 0.9290\n",
      "Epoch 15/100\n",
      "3690/3690 - 0s - loss: 0.1776 - accuracy: 0.9306\n",
      "Epoch 16/100\n",
      "3690/3690 - 1s - loss: 0.1754 - accuracy: 0.9317\n",
      "Epoch 17/100\n",
      "3690/3690 - 1s - loss: 0.1760 - accuracy: 0.9312\n",
      "Epoch 18/100\n",
      "3690/3690 - 0s - loss: 0.1760 - accuracy: 0.9301\n",
      "Epoch 19/100\n",
      "3690/3690 - 0s - loss: 0.1742 - accuracy: 0.9279\n",
      "Epoch 20/100\n",
      "3690/3690 - 0s - loss: 0.1716 - accuracy: 0.9312\n",
      "Epoch 21/100\n",
      "3690/3690 - 0s - loss: 0.1765 - accuracy: 0.9295\n",
      "Epoch 22/100\n",
      "3690/3690 - 0s - loss: 0.1699 - accuracy: 0.9314\n",
      "Epoch 23/100\n",
      "3690/3690 - 1s - loss: 0.1680 - accuracy: 0.9317\n",
      "Epoch 24/100\n",
      "3690/3690 - 1s - loss: 0.1689 - accuracy: 0.9304\n",
      "Epoch 25/100\n",
      "3690/3690 - 0s - loss: 0.1663 - accuracy: 0.9347\n",
      "Epoch 26/100\n",
      "3690/3690 - 1s - loss: 0.1654 - accuracy: 0.9322\n",
      "Epoch 27/100\n",
      "3690/3690 - 1s - loss: 0.1672 - accuracy: 0.9295\n",
      "Epoch 28/100\n",
      "3690/3690 - 1s - loss: 0.1710 - accuracy: 0.9320\n",
      "Epoch 29/100\n",
      "3690/3690 - 0s - loss: 0.1682 - accuracy: 0.9333\n",
      "Epoch 30/100\n",
      "3690/3690 - 1s - loss: 0.1649 - accuracy: 0.9341\n",
      "Epoch 31/100\n",
      "3690/3690 - 1s - loss: 0.1641 - accuracy: 0.9317\n",
      "Epoch 32/100\n",
      "3690/3690 - 1s - loss: 0.1688 - accuracy: 0.9333\n",
      "Epoch 33/100\n",
      "3690/3690 - 1s - loss: 0.1658 - accuracy: 0.9347\n",
      "Epoch 34/100\n",
      "3690/3690 - 1s - loss: 0.1620 - accuracy: 0.9331\n",
      "Epoch 35/100\n",
      "3690/3690 - 0s - loss: 0.1603 - accuracy: 0.9344\n",
      "Epoch 36/100\n",
      "3690/3690 - 0s - loss: 0.1621 - accuracy: 0.9341\n",
      "Epoch 37/100\n",
      "3690/3690 - 0s - loss: 0.1621 - accuracy: 0.9322\n",
      "Epoch 38/100\n",
      "3690/3690 - 0s - loss: 0.1625 - accuracy: 0.9333\n",
      "Epoch 39/100\n",
      "3690/3690 - 0s - loss: 0.1600 - accuracy: 0.9339\n",
      "Epoch 40/100\n",
      "3690/3690 - 0s - loss: 0.1603 - accuracy: 0.9331\n",
      "Epoch 41/100\n",
      "3690/3690 - 0s - loss: 0.1601 - accuracy: 0.9339\n",
      "Epoch 42/100\n",
      "3690/3690 - 0s - loss: 0.1586 - accuracy: 0.9328\n",
      "Epoch 43/100\n",
      "3690/3690 - 0s - loss: 0.1588 - accuracy: 0.9358\n",
      "Epoch 44/100\n",
      "3690/3690 - 0s - loss: 0.1658 - accuracy: 0.9350\n",
      "Epoch 45/100\n",
      "3690/3690 - 0s - loss: 0.1583 - accuracy: 0.9355\n",
      "Epoch 46/100\n",
      "3690/3690 - 0s - loss: 0.1579 - accuracy: 0.9363\n",
      "Epoch 47/100\n",
      "3690/3690 - 0s - loss: 0.1590 - accuracy: 0.9358\n",
      "Epoch 48/100\n",
      "3690/3690 - 0s - loss: 0.1585 - accuracy: 0.9377\n",
      "Epoch 49/100\n",
      "3690/3690 - 0s - loss: 0.1583 - accuracy: 0.9369\n",
      "Epoch 50/100\n",
      "3690/3690 - 0s - loss: 0.1550 - accuracy: 0.9371\n",
      "Epoch 51/100\n",
      "3690/3690 - 0s - loss: 0.1583 - accuracy: 0.9344\n",
      "Epoch 52/100\n",
      "3690/3690 - 0s - loss: 0.1580 - accuracy: 0.9390\n",
      "Epoch 53/100\n",
      "3690/3690 - 0s - loss: 0.1572 - accuracy: 0.9374\n",
      "Epoch 54/100\n",
      "3690/3690 - 0s - loss: 0.1584 - accuracy: 0.9382\n",
      "Epoch 55/100\n",
      "3690/3690 - 0s - loss: 0.1555 - accuracy: 0.9377\n",
      "Epoch 56/100\n",
      "3690/3690 - 0s - loss: 0.1545 - accuracy: 0.9388\n",
      "Epoch 57/100\n",
      "3690/3690 - 0s - loss: 0.1544 - accuracy: 0.9369\n",
      "Epoch 58/100\n",
      "3690/3690 - 1s - loss: 0.1532 - accuracy: 0.9404\n",
      "Epoch 59/100\n",
      "3690/3690 - 1s - loss: 0.1555 - accuracy: 0.9358\n",
      "Epoch 60/100\n",
      "3690/3690 - 1s - loss: 0.1553 - accuracy: 0.9374\n",
      "Epoch 61/100\n",
      "3690/3690 - 1s - loss: 0.1533 - accuracy: 0.9385\n",
      "Epoch 62/100\n",
      "3690/3690 - 1s - loss: 0.1593 - accuracy: 0.9393\n",
      "Epoch 63/100\n",
      "3690/3690 - 1s - loss: 0.1547 - accuracy: 0.9404\n",
      "Epoch 64/100\n",
      "3690/3690 - 1s - loss: 0.1539 - accuracy: 0.9393\n",
      "Epoch 65/100\n",
      "3690/3690 - 1s - loss: 0.1538 - accuracy: 0.9366\n",
      "Epoch 66/100\n",
      "3690/3690 - 1s - loss: 0.1518 - accuracy: 0.9412\n",
      "Epoch 67/100\n",
      "3690/3690 - 0s - loss: 0.1527 - accuracy: 0.9415\n",
      "Epoch 68/100\n",
      "3690/3690 - 1s - loss: 0.1514 - accuracy: 0.9407\n",
      "Epoch 69/100\n",
      "3690/3690 - 0s - loss: 0.1523 - accuracy: 0.9407\n",
      "Epoch 70/100\n",
      "3690/3690 - 1s - loss: 0.1530 - accuracy: 0.9425\n",
      "Epoch 71/100\n",
      "3690/3690 - 1s - loss: 0.1502 - accuracy: 0.9401\n",
      "Epoch 72/100\n",
      "3690/3690 - 0s - loss: 0.1500 - accuracy: 0.9393\n",
      "Epoch 73/100\n",
      "3690/3690 - 0s - loss: 0.1505 - accuracy: 0.9423\n",
      "Epoch 74/100\n",
      "3690/3690 - 0s - loss: 0.1504 - accuracy: 0.9401\n",
      "Epoch 75/100\n",
      "3690/3690 - 0s - loss: 0.1516 - accuracy: 0.9409\n",
      "Epoch 76/100\n",
      "3690/3690 - 0s - loss: 0.1516 - accuracy: 0.9382\n",
      "Epoch 77/100\n",
      "3690/3690 - 0s - loss: 0.1505 - accuracy: 0.9420\n",
      "Epoch 78/100\n",
      "3690/3690 - 0s - loss: 0.1504 - accuracy: 0.9415\n",
      "Epoch 79/100\n",
      "3690/3690 - 0s - loss: 0.1514 - accuracy: 0.9442\n",
      "Epoch 80/100\n",
      "3690/3690 - 0s - loss: 0.1500 - accuracy: 0.9401\n",
      "Epoch 81/100\n",
      "3690/3690 - 0s - loss: 0.1495 - accuracy: 0.9423\n",
      "Epoch 82/100\n",
      "3690/3690 - 0s - loss: 0.1475 - accuracy: 0.9434\n",
      "Epoch 83/100\n",
      "3690/3690 - 0s - loss: 0.1496 - accuracy: 0.9423\n",
      "Epoch 84/100\n",
      "3690/3690 - 0s - loss: 0.1460 - accuracy: 0.9428\n",
      "Epoch 85/100\n",
      "3690/3690 - 0s - loss: 0.1495 - accuracy: 0.9412\n",
      "Epoch 86/100\n",
      "3690/3690 - 0s - loss: 0.1515 - accuracy: 0.9425\n",
      "Epoch 87/100\n",
      "3690/3690 - 0s - loss: 0.1552 - accuracy: 0.9401\n",
      "Epoch 88/100\n",
      "3690/3690 - 0s - loss: 0.1472 - accuracy: 0.9415\n",
      "Epoch 89/100\n",
      "3690/3690 - 0s - loss: 0.1474 - accuracy: 0.9425\n",
      "Epoch 90/100\n",
      "3690/3690 - 0s - loss: 0.1472 - accuracy: 0.9415\n",
      "Epoch 91/100\n",
      "3690/3690 - 0s - loss: 0.1495 - accuracy: 0.9415\n",
      "Epoch 92/100\n",
      "3690/3690 - 0s - loss: 0.1464 - accuracy: 0.9450\n",
      "Epoch 93/100\n",
      "3690/3690 - 0s - loss: 0.1496 - accuracy: 0.9431\n",
      "Epoch 94/100\n",
      "3690/3690 - 1s - loss: 0.1478 - accuracy: 0.9442\n",
      "Epoch 95/100\n",
      "3690/3690 - 1s - loss: 0.1481 - accuracy: 0.9417\n",
      "Epoch 96/100\n",
      "3690/3690 - 1s - loss: 0.1458 - accuracy: 0.9442\n",
      "Epoch 97/100\n",
      "3690/3690 - 1s - loss: 0.1471 - accuracy: 0.9417\n",
      "Epoch 98/100\n",
      "3690/3690 - 1s - loss: 0.1487 - accuracy: 0.9425\n",
      "Epoch 99/100\n",
      "3690/3690 - 1s - loss: 0.1481 - accuracy: 0.9431\n",
      "Epoch 100/100\n",
      "3690/3690 - 1s - loss: 0.1484 - accuracy: 0.9431\n"
     ]
    },
    {
     "data": {
      "text/plain": [
       "<tensorflow.python.keras.callbacks.History at 0x1e5a5c59da0>"
      ]
     },
     "execution_count": 13,
     "metadata": {},
     "output_type": "execute_result"
    }
   ],
   "source": [
    "model.fit(\n",
    "    X_train_scaled,\n",
    "    y_train_categorical,\n",
    "    epochs=100,\n",
    "    shuffle=True,\n",
    "    verbose=2\n",
    ")"
   ]
  },
  {
   "cell_type": "code",
   "execution_count": 14,
   "metadata": {},
   "outputs": [
    {
     "name": "stdout",
     "output_type": "stream",
     "text": [
      "1230/1230 - 1s - loss: 0.1481 - accuracy: 0.9423\n",
      "Loss: 0.14813647695128027, Accuracy: 0.9422764182090759\n"
     ]
    }
   ],
   "source": [
    "model_loss, model_accuracy = model.evaluate(\n",
    "    X_test_scaled, y_test_categorical, verbose=2)\n",
    "\n",
    "print(f\"Loss: {model_loss}, Accuracy: {model_accuracy}\")"
   ]
  },
  {
   "cell_type": "code",
   "execution_count": 15,
   "metadata": {},
   "outputs": [
    {
     "data": {
      "text/plain": [
       "<matplotlib.axes._subplots.AxesSubplot at 0x1e5a642b1d0>"
      ]
     },
     "execution_count": 15,
     "metadata": {},
     "output_type": "execute_result"
    },
    {
     "data": {
      "image/png": "[encoded data removed]",
      "text/plain": [
       "<Figure size 720x360 with 2 Axes>"
      ]
     },
     "metadata": {
      "needs_background": "light"
     },
     "output_type": "display_data"
    }
   ],
   "source": [
    "from sklearn.metrics import confusion_matrix\n",
    "import seaborn as sns\n",
    "\n",
    "cm=confusion_matrix(y_test_categorical.argmax(axis=1),model.predict(X_test_scaled).argmax(axis=1))\n",
    "df_cm = pd.DataFrame(cm, range(2),\n",
    "                    range(2))\n",
    "plt.figure(figsize = (10,5))\n",
    "sns.set(font_scale=1.4)#for label size\n",
    "sns.heatmap(df_cm, annot=True,annot_kws={\"size\": 16})# font size"
   ]
  },
  {
   "cell_type": "code",
   "execution_count": 16,
   "metadata": {},
   "outputs": [
    {
     "data": {
      "text/plain": [
       "array([[579,  15],\n",
       "       [ 56, 580]], dtype=int64)"
      ]
     },
     "execution_count": 16,
     "metadata": {},
     "output_type": "execute_result"
    }
   ],
   "source": [
    "cm"
   ]
  },
  {
   "cell_type": "code",
   "execution_count": 17,
   "metadata": {},
   "outputs": [],
   "source": [
    "model.save(\"updatedmodel.h5\")"
   ]
  },
  {
   "cell_type": "code",
   "execution_count": null,
   "metadata": {},
   "outputs": [],
   "source": []
  }
 ],
 "metadata": {
  "kernelspec": {
   "display_name": "Python 3",
   "language": "python",
   "name": "python3"
  },
  "language_info": {
   "codemirror_mode": {
    "name": "ipython",
    "version": 3
   },
   "file_extension": ".py",
   "mimetype": "text/x-python",
   "name": "python",
   "nbconvert_exporter": "python",
   "pygments_lexer": "ipython3",
   "version": "3.6.10"
  }
 },
 "nbformat": 4,
 "nbformat_minor": 4
}
