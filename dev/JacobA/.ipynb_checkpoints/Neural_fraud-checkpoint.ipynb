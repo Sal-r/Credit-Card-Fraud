{
 "cells": [
  {
   "cell_type": "code",
   "execution_count": 1,
   "metadata": {},
   "outputs": [],
   "source": [
    "import pandas as pd\n",
    "import sklearn\n",
    "from sklearn.model_selection import train_test_split\n",
    "from sklearn.preprocessing import MinMaxScaler\n",
    "import matplotlib.pyplot as plt\n",
    "import numpy as np\n",
    "from tensorflow.keras.models import Sequential\n",
    "from tensorflow.keras.layers import Dense\n",
    "from tensorflow.keras.utils import to_categorical\n",
    "from tensorflow.keras.metrics import Precision, Recall\n",
    "from tensorflow.keras.models import load_model\n",
    "from tensorflow import math"
   ]
  },
  {
   "cell_type": "code",
   "execution_count": 2,
   "metadata": {},
   "outputs": [],
   "source": [
    "full_df = pd.read_csv(\"../../Data/creditcard.csv\")\n",
    "full_df.drop(columns='Time', inplace=True)"
   ]
  },
  {
   "cell_type": "code",
   "execution_count": 3,
   "metadata": {},
   "outputs": [],
   "source": [
    "fraud_df = full_df.loc[full_df['Class'] == 1]\n",
    "fraud_df = fraud_df.reset_index(drop=True)"
   ]
  },
  {
   "cell_type": "code",
   "execution_count": 4,
   "metadata": {},
   "outputs": [],
   "source": [
    "not_fraud_df = full_df.loc[full_df['Class']==0]\n",
    "not_fraud_df = not_fraud_df.sample(n=492, random_state=1)\n",
    "not_fraud_df = not_fraud_df.reset_index(drop=True)"
   ]
  },
  {
   "cell_type": "code",
   "execution_count": 5,
   "metadata": {},
   "outputs": [],
   "source": [
    "new_df = fraud_df.append(not_fraud_df, ignore_index=True)"
   ]
  },
  {
   "cell_type": "code",
   "execution_count": 6,
   "metadata": {},
   "outputs": [],
   "source": [
    "X = np.array(new_df.iloc[:, 0:29])\n",
    "y = np.array(new_df['Class'])"
   ]
  },
  {
   "cell_type": "code",
   "execution_count": 7,
   "metadata": {},
   "outputs": [],
   "source": [
    "X_train, X_test, y_train, y_test = train_test_split(X, y, random_state=8)"
   ]
  },
  {
   "cell_type": "code",
   "execution_count": 8,
   "metadata": {},
   "outputs": [],
   "source": [
    "X_scaler = MinMaxScaler(feature_range=(0,1)).fit(X_train)"
   ]
  },
  {
   "cell_type": "code",
   "execution_count": 9,
   "metadata": {},
   "outputs": [],
   "source": [
    "X_train_scaled = X_scaler.transform(X_train)\n",
    "X_test_scaled = X_scaler.transform(X_test)"
   ]
  },
  {
   "cell_type": "code",
   "execution_count": 10,
   "metadata": {},
   "outputs": [],
   "source": [
    "y_train_categorical = to_categorical(y_train)\n",
    "y_test_categorical = to_categorical(y_test)"
   ]
  },
  {
   "cell_type": "code",
   "execution_count": 11,
   "metadata": {},
   "outputs": [],
   "source": [
    "model = Sequential()\n",
    "model.add(Dense(units=87, activation='relu', input_dim=29))\n",
    "model.add(Dense(units=2, activation='softmax'))"
   ]
  },
  {
   "cell_type": "code",
   "execution_count": 12,
   "metadata": {},
   "outputs": [],
   "source": [
    "model.compile(optimizer='adam',\n",
    "             loss='categorical_crossentropy',\n",
    "             metrics=['accuracy'])"
   ]
  },
  {
   "cell_type": "code",
   "execution_count": 13,
   "metadata": {},
   "outputs": [
    {
     "name": "stdout",
     "output_type": "stream",
     "text": [
      "Train on 738 samples\n",
      "Epoch 1/100\n",
      "738/738 - 1s - loss: 0.6539 - accuracy: 0.6694\n",
      "Epoch 2/100\n",
      "738/738 - 0s - loss: 0.5505 - accuracy: 0.8103\n",
      "Epoch 3/100\n",
      "738/738 - 0s - loss: 0.4785 - accuracy: 0.8591\n",
      "Epoch 4/100\n",
      "738/738 - 0s - loss: 0.4283 - accuracy: 0.8916\n",
      "Epoch 5/100\n",
      "738/738 - 0s - loss: 0.3787 - accuracy: 0.8902\n",
      "Epoch 6/100\n",
      "738/738 - 0s - loss: 0.3431 - accuracy: 0.9011\n",
      "Epoch 7/100\n",
      "738/738 - 0s - loss: 0.3169 - accuracy: 0.8970\n",
      "Epoch 8/100\n",
      "738/738 - 0s - loss: 0.3059 - accuracy: 0.9011\n",
      "Epoch 9/100\n",
      "738/738 - 0s - loss: 0.2857 - accuracy: 0.9079\n",
      "Epoch 10/100\n",
      "738/738 - 0s - loss: 0.2719 - accuracy: 0.9065\n",
      "Epoch 11/100\n",
      "738/738 - 0s - loss: 0.2580 - accuracy: 0.9092\n",
      "Epoch 12/100\n",
      "738/738 - 0s - loss: 0.2497 - accuracy: 0.9146\n",
      "Epoch 13/100\n",
      "738/738 - 0s - loss: 0.2408 - accuracy: 0.9119\n",
      "Epoch 14/100\n",
      "738/738 - 0s - loss: 0.2473 - accuracy: 0.9146\n",
      "Epoch 15/100\n",
      "738/738 - 0s - loss: 0.2316 - accuracy: 0.9133\n",
      "Epoch 16/100\n",
      "738/738 - 0s - loss: 0.2303 - accuracy: 0.9201\n",
      "Epoch 17/100\n",
      "738/738 - 0s - loss: 0.2290 - accuracy: 0.9241\n",
      "Epoch 18/100\n",
      "738/738 - 0s - loss: 0.2148 - accuracy: 0.9241\n",
      "Epoch 19/100\n",
      "738/738 - 0s - loss: 0.2115 - accuracy: 0.9187\n",
      "Epoch 20/100\n",
      "738/738 - 0s - loss: 0.2130 - accuracy: 0.9255\n",
      "Epoch 21/100\n",
      "738/738 - 0s - loss: 0.2263 - accuracy: 0.9146\n",
      "Epoch 22/100\n",
      "738/738 - 0s - loss: 0.2049 - accuracy: 0.9322\n",
      "Epoch 23/100\n",
      "738/738 - 0s - loss: 0.2045 - accuracy: 0.9187\n",
      "Epoch 24/100\n",
      "738/738 - 0s - loss: 0.2022 - accuracy: 0.9282\n",
      "Epoch 25/100\n",
      "738/738 - 0s - loss: 0.2005 - accuracy: 0.9201\n",
      "Epoch 26/100\n",
      "738/738 - 0s - loss: 0.2036 - accuracy: 0.9241\n",
      "Epoch 27/100\n",
      "738/738 - 0s - loss: 0.1971 - accuracy: 0.9241\n",
      "Epoch 28/100\n",
      "738/738 - 0s - loss: 0.1958 - accuracy: 0.9214\n",
      "Epoch 29/100\n",
      "738/738 - 0s - loss: 0.1923 - accuracy: 0.9255\n",
      "Epoch 30/100\n",
      "738/738 - 0s - loss: 0.1972 - accuracy: 0.9309\n",
      "Epoch 31/100\n",
      "738/738 - 0s - loss: 0.2038 - accuracy: 0.9187\n",
      "Epoch 32/100\n",
      "738/738 - 0s - loss: 0.1971 - accuracy: 0.9268\n",
      "Epoch 33/100\n",
      "738/738 - 0s - loss: 0.1915 - accuracy: 0.9268\n",
      "Epoch 34/100\n",
      "738/738 - 0s - loss: 0.1912 - accuracy: 0.9241\n",
      "Epoch 35/100\n",
      "738/738 - 0s - loss: 0.1853 - accuracy: 0.9295\n",
      "Epoch 36/100\n",
      "738/738 - 0s - loss: 0.1852 - accuracy: 0.9282\n",
      "Epoch 37/100\n",
      "738/738 - 0s - loss: 0.1831 - accuracy: 0.9309\n",
      "Epoch 38/100\n",
      "738/738 - 0s - loss: 0.1815 - accuracy: 0.9282\n",
      "Epoch 39/100\n",
      "738/738 - 0s - loss: 0.1822 - accuracy: 0.9295\n",
      "Epoch 40/100\n",
      "738/738 - 0s - loss: 0.1822 - accuracy: 0.9282\n",
      "Epoch 41/100\n",
      "738/738 - 0s - loss: 0.1805 - accuracy: 0.9282\n",
      "Epoch 42/100\n",
      "738/738 - 0s - loss: 0.1874 - accuracy: 0.9268\n",
      "Epoch 43/100\n",
      "738/738 - 0s - loss: 0.1850 - accuracy: 0.9282\n",
      "Epoch 44/100\n",
      "738/738 - 0s - loss: 0.1787 - accuracy: 0.9295\n",
      "Epoch 45/100\n",
      "738/738 - 0s - loss: 0.1794 - accuracy: 0.9295\n",
      "Epoch 46/100\n",
      "738/738 - 0s - loss: 0.1807 - accuracy: 0.9295\n",
      "Epoch 47/100\n",
      "738/738 - 0s - loss: 0.1776 - accuracy: 0.9295\n",
      "Epoch 48/100\n",
      "738/738 - 0s - loss: 0.1729 - accuracy: 0.9322\n",
      "Epoch 49/100\n",
      "738/738 - 0s - loss: 0.1791 - accuracy: 0.9363\n",
      "Epoch 50/100\n",
      "738/738 - 0s - loss: 0.1742 - accuracy: 0.9282\n",
      "Epoch 51/100\n",
      "738/738 - 0s - loss: 0.1758 - accuracy: 0.9295\n",
      "Epoch 52/100\n",
      "738/738 - 0s - loss: 0.1790 - accuracy: 0.9255\n",
      "Epoch 53/100\n",
      "738/738 - 0s - loss: 0.2224 - accuracy: 0.9106\n",
      "Epoch 54/100\n",
      "738/738 - 0s - loss: 0.1869 - accuracy: 0.9255\n",
      "Epoch 55/100\n",
      "738/738 - 0s - loss: 0.1885 - accuracy: 0.9255\n",
      "Epoch 56/100\n",
      "738/738 - 0s - loss: 0.1744 - accuracy: 0.9295\n",
      "Epoch 57/100\n",
      "738/738 - 0s - loss: 0.1742 - accuracy: 0.9295\n",
      "Epoch 58/100\n",
      "738/738 - 0s - loss: 0.1750 - accuracy: 0.9255\n",
      "Epoch 59/100\n",
      "738/738 - 0s - loss: 0.1743 - accuracy: 0.9295\n",
      "Epoch 60/100\n",
      "738/738 - 0s - loss: 0.1728 - accuracy: 0.9322\n",
      "Epoch 61/100\n",
      "738/738 - 0s - loss: 0.1735 - accuracy: 0.9322\n",
      "Epoch 62/100\n",
      "738/738 - 0s - loss: 0.1806 - accuracy: 0.9309\n",
      "Epoch 63/100\n",
      "738/738 - 0s - loss: 0.1695 - accuracy: 0.9309\n",
      "Epoch 64/100\n",
      "738/738 - 0s - loss: 0.1897 - accuracy: 0.9255\n",
      "Epoch 65/100\n",
      "738/738 - 0s - loss: 0.1772 - accuracy: 0.9336\n",
      "Epoch 66/100\n",
      "738/738 - 0s - loss: 0.1740 - accuracy: 0.9282\n",
      "Epoch 67/100\n",
      "738/738 - 0s - loss: 0.1686 - accuracy: 0.9322\n",
      "Epoch 68/100\n",
      "738/738 - 0s - loss: 0.1759 - accuracy: 0.9322\n",
      "Epoch 69/100\n",
      "738/738 - 0s - loss: 0.1725 - accuracy: 0.9336\n",
      "Epoch 70/100\n",
      "738/738 - 0s - loss: 0.1732 - accuracy: 0.9350\n",
      "Epoch 71/100\n",
      "738/738 - 0s - loss: 0.1793 - accuracy: 0.9268\n",
      "Epoch 72/100\n",
      "738/738 - 0s - loss: 0.1682 - accuracy: 0.9322\n",
      "Epoch 73/100\n",
      "738/738 - 0s - loss: 0.1745 - accuracy: 0.9282\n",
      "Epoch 74/100\n",
      "738/738 - 0s - loss: 0.1700 - accuracy: 0.9350\n",
      "Epoch 75/100\n",
      "738/738 - 0s - loss: 0.1697 - accuracy: 0.9336\n",
      "Epoch 76/100\n",
      "738/738 - 0s - loss: 0.1698 - accuracy: 0.9363\n",
      "Epoch 77/100\n",
      "738/738 - 0s - loss: 0.1746 - accuracy: 0.9336\n",
      "Epoch 78/100\n",
      "738/738 - 0s - loss: 0.1692 - accuracy: 0.9336\n",
      "Epoch 79/100\n",
      "738/738 - 0s - loss: 0.1756 - accuracy: 0.9363\n",
      "Epoch 80/100\n",
      "738/738 - 0s - loss: 0.1777 - accuracy: 0.9350\n",
      "Epoch 81/100\n",
      "738/738 - 0s - loss: 0.1656 - accuracy: 0.9363\n",
      "Epoch 82/100\n",
      "738/738 - 0s - loss: 0.1731 - accuracy: 0.9390\n",
      "Epoch 83/100\n",
      "738/738 - 0s - loss: 0.1707 - accuracy: 0.9295\n",
      "Epoch 84/100\n",
      "738/738 - 0s - loss: 0.1662 - accuracy: 0.9363\n",
      "Epoch 85/100\n",
      "738/738 - 0s - loss: 0.1943 - accuracy: 0.9268\n",
      "Epoch 86/100\n",
      "738/738 - 0s - loss: 0.1723 - accuracy: 0.9363\n",
      "Epoch 87/100\n",
      "738/738 - 0s - loss: 0.1656 - accuracy: 0.9336\n",
      "Epoch 88/100\n",
      "738/738 - 0s - loss: 0.1648 - accuracy: 0.9350\n",
      "Epoch 89/100\n",
      "738/738 - 0s - loss: 0.1635 - accuracy: 0.9295\n",
      "Epoch 90/100\n",
      "738/738 - 0s - loss: 0.1865 - accuracy: 0.9336\n",
      "Epoch 91/100\n",
      "738/738 - 0s - loss: 0.1633 - accuracy: 0.9309\n",
      "Epoch 92/100\n",
      "738/738 - 0s - loss: 0.1707 - accuracy: 0.9363\n",
      "Epoch 93/100\n",
      "738/738 - 0s - loss: 0.1696 - accuracy: 0.9322\n",
      "Epoch 94/100\n",
      "738/738 - 0s - loss: 0.1713 - accuracy: 0.9295\n",
      "Epoch 95/100\n",
      "738/738 - 0s - loss: 0.1630 - accuracy: 0.9336\n",
      "Epoch 96/100\n",
      "738/738 - 0s - loss: 0.1661 - accuracy: 0.9363\n",
      "Epoch 97/100\n",
      "738/738 - 0s - loss: 0.1658 - accuracy: 0.9377\n",
      "Epoch 98/100\n",
      "738/738 - 0s - loss: 0.1631 - accuracy: 0.9322\n",
      "Epoch 99/100\n",
      "738/738 - 0s - loss: 0.1622 - accuracy: 0.9390\n",
      "Epoch 100/100\n",
      "738/738 - 0s - loss: 0.1680 - accuracy: 0.9363\n"
     ]
    },
    {
     "data": {
      "text/plain": [
       "<tensorflow.python.keras.callbacks.History at 0x211af317ac8>"
      ]
     },
     "execution_count": 13,
     "metadata": {},
     "output_type": "execute_result"
    }
   ],
   "source": [
    "model.fit(\n",
    "    X_train_scaled,\n",
    "    y_train_categorical,\n",
    "    epochs=100,\n",
    "    shuffle=True,\n",
    "    verbose=2\n",
    ")"
   ]
  },
  {
   "cell_type": "code",
   "execution_count": 14,
   "metadata": {},
   "outputs": [
    {
     "name": "stdout",
     "output_type": "stream",
     "text": [
      "246/246 - 1s - loss: 0.1392 - accuracy: 0.9472\n",
      "Loss: 0.13920056735112415, Accuracy: 0.9471544623374939\n"
     ]
    }
   ],
   "source": [
    "model_loss, model_accuracy = model.evaluate(\n",
    "    X_test_scaled, y_test_categorical, verbose=2)\n",
    "\n",
    "print(f\"Loss: {model_loss}, Accuracy: {model_accuracy}\")"
   ]
  },
  {
   "cell_type": "code",
   "execution_count": 19,
   "metadata": {},
   "outputs": [
    {
     "data": {
      "text/plain": [
       "Text(0.5, 17.5, 'Predicted Value (No Fraud / Fraud)')"
      ]
     },
     "execution_count": 19,
     "metadata": {},
     "output_type": "execute_result"
    },
    {
     "data": {
      "image/png": "[encoded data removed]",
      "text/plain": [
       "<Figure size 720x360 with 2 Axes>"
      ]
     },
     "metadata": {},
     "output_type": "display_data"
    }
   ],
   "source": [
    "from sklearn.metrics import confusion_matrix\n",
    "import seaborn as sns\n",
    "\n",
    "cm=confusion_matrix(y_test_categorical.argmax(axis=1),model.predict(X_test_scaled).argmax(axis=1))\n",
    "df_cm = pd.DataFrame(cm, range(2), range(2))\n",
    "plt.figure(figsize = (10,5))\n",
    "sns.set(font_scale=1.4)#for label size\n",
    "sns.heatmap(df_cm, annot=True, fmt='g', annot_kws={\"size\": 16})# font size\n",
    "plt.ylabel('Actual Value (Fraud / No Fraud)')\n",
    "plt.xlabel('Predicted Value (No Fraud / Fraud)')"
   ]
  },
  {
   "cell_type": "code",
   "execution_count": 20,
   "metadata": {},
   "outputs": [
    {
     "data": {
      "text/plain": [
       "<Figure size 432x288 with 0 Axes>"
      ]
     },
     "metadata": {},
     "output_type": "display_data"
    }
   ],
   "source": [
    "plt.savefig(\"NeuralConfusion.png\")"
   ]
  },
  {
   "cell_type": "code",
   "execution_count": 17,
   "metadata": {},
   "outputs": [],
   "source": [
    "model.save(\"updatedmodel.h5\")"
   ]
  },
  {
   "cell_type": "code",
   "execution_count": null,
   "metadata": {},
   "outputs": [],
   "source": []
  },
  {
   "cell_type": "code",
   "execution_count": null,
   "metadata": {},
   "outputs": [],
   "source": []
  }
 ],
 "metadata": {
  "kernelspec": {
   "display_name": "Python 3",
   "language": "python",
   "name": "python3"
  },
  "language_info": {
   "codemirror_mode": {
    "name": "ipython",
    "version": 3
   },
   "file_extension": ".py",
   "mimetype": "text/x-python",
   "name": "python",
   "nbconvert_exporter": "python",
   "pygments_lexer": "ipython3",
   "version": "3.6.10"
  }
 },
 "nbformat": 4,
 "nbformat_minor": 4
}
