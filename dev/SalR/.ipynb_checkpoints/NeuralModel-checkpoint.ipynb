{
 "cells": [
  {
   "cell_type": "code",
   "execution_count": 1,
   "metadata": {},
   "outputs": [],
   "source": [
    "import pandas as pd\n",
    "import sklearn\n",
    "from sklearn.model_selection import train_test_split\n",
    "from sklearn.preprocessing import MinMaxScaler\n",
    "import matplotlib.pyplot as plt\n",
    "import numpy as np\n",
    "from tensorflow.keras.models import Sequential\n",
    "from tensorflow.keras.layers import Dense\n",
    "from tensorflow.keras.utils import to_categorical"
   ]
  },
  {
   "cell_type": "code",
   "execution_count": 5,
   "metadata": {},
   "outputs": [],
   "source": [
    "fraud_df = pd.read_csv(\"../../Data/creditcard.csv\")\n",
    "fraud_df.drop(columns='Time', inplace=True)"
   ]
  },
  {
   "cell_type": "code",
   "execution_count": 6,
   "metadata": {},
   "outputs": [],
   "source": [
    "y_set = fraud_df['Class']\n",
    "X_set = fraud_df.drop(columns='Class')"
   ]
  },
  {
   "cell_type": "code",
   "execution_count": 7,
   "metadata": {},
   "outputs": [],
   "source": [
    "X_train, X_test, y_train, y_test = train_test_split(X_set, y_set, random_state=1)"
   ]
  },
  {
   "cell_type": "code",
   "execution_count": 8,
   "metadata": {},
   "outputs": [],
   "source": [
    "X_scaler = MinMaxScaler(feature_range=(0,1)).fit(X_train)"
   ]
  },
  {
   "cell_type": "code",
   "execution_count": 9,
   "metadata": {},
   "outputs": [],
   "source": [
    "X_train_scaled = X_scaler.transform(X_train)\n",
    "X_test_scaled = X_scaler.transform(X_test)"
   ]
  },
  {
   "cell_type": "code",
   "execution_count": 10,
   "metadata": {},
   "outputs": [],
   "source": [
    "y_train_categorical = to_categorical(y_train)\n",
    "y_test_categorical = to_categorical(y_test)"
   ]
  },
  {
   "cell_type": "code",
   "execution_count": 11,
   "metadata": {},
   "outputs": [],
   "source": [
    "model = Sequential()\n",
    "model.add(Dense(units=87, activation='relu', input_dim=29))\n",
    "model.add(Dense(units=2, activation='softmax'))"
   ]
  },
  {
   "cell_type": "code",
   "execution_count": 12,
   "metadata": {},
   "outputs": [],
   "source": [
    "model.compile(optimizer='adam',\n",
    "             loss='categorical_crossentropy',\n",
    "             metrics=['accuracy'])"
   ]
  },
  {
   "cell_type": "code",
   "execution_count": 17,
   "metadata": {},
   "outputs": [
    {
     "name": "stdout",
     "output_type": "stream",
     "text": [
      "Train on 213605 samples\n",
      "Epoch 1/100\n",
      "213605/213605 - 5s - loss: 0.0028 - accuracy: 0.9995\n",
      "Epoch 2/100\n",
      "213605/213605 - 5s - loss: 0.0028 - accuracy: 0.9995\n",
      "Epoch 3/100\n",
      "213605/213605 - 5s - loss: 0.0028 - accuracy: 0.9995\n",
      "Epoch 4/100\n",
      "213605/213605 - 5s - loss: 0.0028 - accuracy: 0.9995\n",
      "Epoch 5/100\n",
      "213605/213605 - 5s - loss: 0.0028 - accuracy: 0.9995\n",
      "Epoch 6/100\n",
      "213605/213605 - 6s - loss: 0.0028 - accuracy: 0.9995\n",
      "Epoch 7/100\n",
      "213605/213605 - 5s - loss: 0.0028 - accuracy: 0.9995\n",
      "Epoch 8/100\n",
      "213605/213605 - 6s - loss: 0.0028 - accuracy: 0.9995\n",
      "Epoch 9/100\n",
      "213605/213605 - 6s - loss: 0.0028 - accuracy: 0.9995\n",
      "Epoch 10/100\n",
      "213605/213605 - 6s - loss: 0.0028 - accuracy: 0.9995\n",
      "Epoch 11/100\n",
      "213605/213605 - 6s - loss: 0.0028 - accuracy: 0.9995\n",
      "Epoch 12/100\n",
      "213605/213605 - 6s - loss: 0.0028 - accuracy: 0.9995\n",
      "Epoch 13/100\n",
      "213605/213605 - 5s - loss: 0.0028 - accuracy: 0.9995\n",
      "Epoch 14/100\n",
      "213605/213605 - 6s - loss: 0.0028 - accuracy: 0.9995\n",
      "Epoch 15/100\n",
      "213605/213605 - 5s - loss: 0.0028 - accuracy: 0.9995\n",
      "Epoch 16/100\n",
      "213605/213605 - 5s - loss: 0.0028 - accuracy: 0.9995\n",
      "Epoch 17/100\n",
      "213605/213605 - 6s - loss: 0.0028 - accuracy: 0.9995\n",
      "Epoch 18/100\n",
      "213605/213605 - 5s - loss: 0.0028 - accuracy: 0.9995\n",
      "Epoch 19/100\n",
      "213605/213605 - 5s - loss: 0.0028 - accuracy: 0.9995\n",
      "Epoch 20/100\n",
      "213605/213605 - 5s - loss: 0.0028 - accuracy: 0.9995\n",
      "Epoch 21/100\n",
      "213605/213605 - 5s - loss: 0.0028 - accuracy: 0.9995\n",
      "Epoch 22/100\n",
      "213605/213605 - 6s - loss: 0.0028 - accuracy: 0.9995\n",
      "Epoch 23/100\n",
      "213605/213605 - 5s - loss: 0.0028 - accuracy: 0.9995\n",
      "Epoch 24/100\n",
      "213605/213605 - 5s - loss: 0.0028 - accuracy: 0.9995\n",
      "Epoch 25/100\n",
      "213605/213605 - 5s - loss: 0.0028 - accuracy: 0.9995\n",
      "Epoch 26/100\n",
      "213605/213605 - 5s - loss: 0.0028 - accuracy: 0.9995\n",
      "Epoch 27/100\n",
      "213605/213605 - 6s - loss: 0.0028 - accuracy: 0.9995\n",
      "Epoch 28/100\n",
      "213605/213605 - 5s - loss: 0.0028 - accuracy: 0.9995\n",
      "Epoch 29/100\n",
      "213605/213605 - 5s - loss: 0.0028 - accuracy: 0.9995\n",
      "Epoch 30/100\n",
      "213605/213605 - 5s - loss: 0.0028 - accuracy: 0.9995\n",
      "Epoch 31/100\n",
      "213605/213605 - 6s - loss: 0.0028 - accuracy: 0.9995\n",
      "Epoch 32/100\n",
      "213605/213605 - 6s - loss: 0.0028 - accuracy: 0.9995\n",
      "Epoch 33/100\n",
      "213605/213605 - 5s - loss: 0.0027 - accuracy: 0.9995\n",
      "Epoch 34/100\n",
      "213605/213605 - 5s - loss: 0.0028 - accuracy: 0.9995\n",
      "Epoch 35/100\n",
      "213605/213605 - 5s - loss: 0.0028 - accuracy: 0.9995\n",
      "Epoch 36/100\n",
      "213605/213605 - 5s - loss: 0.0028 - accuracy: 0.9995\n",
      "Epoch 37/100\n",
      "213605/213605 - 6s - loss: 0.0027 - accuracy: 0.9995\n",
      "Epoch 38/100\n",
      "213605/213605 - 6s - loss: 0.0027 - accuracy: 0.9995\n",
      "Epoch 39/100\n",
      "213605/213605 - 6s - loss: 0.0028 - accuracy: 0.9995\n",
      "Epoch 40/100\n",
      "213605/213605 - 6s - loss: 0.0028 - accuracy: 0.9995\n",
      "Epoch 41/100\n",
      "213605/213605 - 6s - loss: 0.0027 - accuracy: 0.9995\n",
      "Epoch 42/100\n",
      "213605/213605 - 6s - loss: 0.0027 - accuracy: 0.9995\n",
      "Epoch 43/100\n",
      "213605/213605 - 6s - loss: 0.0027 - accuracy: 0.9995\n",
      "Epoch 44/100\n",
      "213605/213605 - 6s - loss: 0.0027 - accuracy: 0.9995\n",
      "Epoch 45/100\n",
      "213605/213605 - 6s - loss: 0.0028 - accuracy: 0.9995\n",
      "Epoch 46/100\n",
      "213605/213605 - 6s - loss: 0.0028 - accuracy: 0.9995\n",
      "Epoch 47/100\n",
      "213605/213605 - 6s - loss: 0.0028 - accuracy: 0.9995\n",
      "Epoch 48/100\n",
      "213605/213605 - 5s - loss: 0.0028 - accuracy: 0.9995\n",
      "Epoch 49/100\n",
      "213605/213605 - 5s - loss: 0.0028 - accuracy: 0.9995\n",
      "Epoch 50/100\n",
      "213605/213605 - 5s - loss: 0.0027 - accuracy: 0.9995\n",
      "Epoch 51/100\n",
      "213605/213605 - 6s - loss: 0.0028 - accuracy: 0.9995\n",
      "Epoch 52/100\n",
      "213605/213605 - 6s - loss: 0.0027 - accuracy: 0.9995\n",
      "Epoch 53/100\n",
      "213605/213605 - 5s - loss: 0.0028 - accuracy: 0.9995\n",
      "Epoch 54/100\n",
      "213605/213605 - 5s - loss: 0.0027 - accuracy: 0.9995\n",
      "Epoch 55/100\n",
      "213605/213605 - 5s - loss: 0.0028 - accuracy: 0.9995\n",
      "Epoch 56/100\n",
      "213605/213605 - 6s - loss: 0.0027 - accuracy: 0.9995\n",
      "Epoch 57/100\n",
      "213605/213605 - 6s - loss: 0.0028 - accuracy: 0.9995\n",
      "Epoch 58/100\n",
      "213605/213605 - 6s - loss: 0.0028 - accuracy: 0.9995\n",
      "Epoch 59/100\n",
      "213605/213605 - 5s - loss: 0.0028 - accuracy: 0.9995\n",
      "Epoch 60/100\n",
      "213605/213605 - 6s - loss: 0.0027 - accuracy: 0.9995\n",
      "Epoch 61/100\n",
      "213605/213605 - 6s - loss: 0.0027 - accuracy: 0.9995\n",
      "Epoch 62/100\n",
      "213605/213605 - 5s - loss: 0.0027 - accuracy: 0.9995\n",
      "Epoch 63/100\n",
      "213605/213605 - 5s - loss: 0.0027 - accuracy: 0.9995\n",
      "Epoch 64/100\n",
      "213605/213605 - 6s - loss: 0.0027 - accuracy: 0.9995\n",
      "Epoch 65/100\n",
      "213605/213605 - 5s - loss: 0.0027 - accuracy: 0.9995\n",
      "Epoch 66/100\n",
      "213605/213605 - 5s - loss: 0.0028 - accuracy: 0.9995\n",
      "Epoch 67/100\n",
      "213605/213605 - 5s - loss: 0.0027 - accuracy: 0.9995\n",
      "Epoch 68/100\n",
      "213605/213605 - 5s - loss: 0.0028 - accuracy: 0.9995\n",
      "Epoch 69/100\n",
      "213605/213605 - 5s - loss: 0.0027 - accuracy: 0.9995\n",
      "Epoch 70/100\n",
      "213605/213605 - 5s - loss: 0.0028 - accuracy: 0.9995\n",
      "Epoch 71/100\n",
      "213605/213605 - 5s - loss: 0.0027 - accuracy: 0.9995\n",
      "Epoch 72/100\n",
      "213605/213605 - 5s - loss: 0.0028 - accuracy: 0.9995\n",
      "Epoch 73/100\n",
      "213605/213605 - 5s - loss: 0.0027 - accuracy: 0.9995\n",
      "Epoch 74/100\n",
      "213605/213605 - 5s - loss: 0.0027 - accuracy: 0.9995\n",
      "Epoch 75/100\n",
      "213605/213605 - 5s - loss: 0.0027 - accuracy: 0.9995\n",
      "Epoch 76/100\n",
      "213605/213605 - 5s - loss: 0.0027 - accuracy: 0.9995\n",
      "Epoch 77/100\n",
      "213605/213605 - 5s - loss: 0.0027 - accuracy: 0.9995\n",
      "Epoch 78/100\n",
      "213605/213605 - 6s - loss: 0.0027 - accuracy: 0.9995\n",
      "Epoch 79/100\n",
      "213605/213605 - 5s - loss: 0.0027 - accuracy: 0.9995\n",
      "Epoch 80/100\n",
      "213605/213605 - 5s - loss: 0.0027 - accuracy: 0.9995\n",
      "Epoch 81/100\n",
      "213605/213605 - 6s - loss: 0.0027 - accuracy: 0.9995\n",
      "Epoch 82/100\n",
      "213605/213605 - 6s - loss: 0.0027 - accuracy: 0.9995\n",
      "Epoch 83/100\n",
      "213605/213605 - 6s - loss: 0.0027 - accuracy: 0.9995\n",
      "Epoch 84/100\n",
      "213605/213605 - 7s - loss: 0.0027 - accuracy: 0.9995\n",
      "Epoch 85/100\n",
      "213605/213605 - 7s - loss: 0.0027 - accuracy: 0.9995\n",
      "Epoch 86/100\n",
      "213605/213605 - 7s - loss: 0.0027 - accuracy: 0.9995\n",
      "Epoch 87/100\n",
      "213605/213605 - 5s - loss: 0.0027 - accuracy: 0.9995\n",
      "Epoch 88/100\n",
      "213605/213605 - 5s - loss: 0.0027 - accuracy: 0.9995\n",
      "Epoch 89/100\n",
      "213605/213605 - 5s - loss: 0.0027 - accuracy: 0.9995\n",
      "Epoch 90/100\n",
      "213605/213605 - 5s - loss: 0.0027 - accuracy: 0.9995\n",
      "Epoch 91/100\n",
      "213605/213605 - 5s - loss: 0.0027 - accuracy: 0.9995\n",
      "Epoch 92/100\n",
      "213605/213605 - 5s - loss: 0.0027 - accuracy: 0.9995\n",
      "Epoch 93/100\n",
      "213605/213605 - 5s - loss: 0.0027 - accuracy: 0.9995\n",
      "Epoch 94/100\n",
      "213605/213605 - 5s - loss: 0.0027 - accuracy: 0.9995\n",
      "Epoch 95/100\n",
      "213605/213605 - 5s - loss: 0.0027 - accuracy: 0.9995\n",
      "Epoch 96/100\n",
      "213605/213605 - 5s - loss: 0.0027 - accuracy: 0.9995\n",
      "Epoch 97/100\n",
      "213605/213605 - 5s - loss: 0.0027 - accuracy: 0.9995\n",
      "Epoch 98/100\n",
      "213605/213605 - 5s - loss: 0.0027 - accuracy: 0.9995\n",
      "Epoch 99/100\n",
      "213605/213605 - 5s - loss: 0.0026 - accuracy: 0.9995\n",
      "Epoch 100/100\n",
      "213605/213605 - 5s - loss: 0.0027 - accuracy: 0.9995\n"
     ]
    },
    {
     "data": {
      "text/plain": [
       "<tensorflow.python.keras.callbacks.History at 0x1d022ccb940>"
      ]
     },
     "execution_count": 17,
     "metadata": {},
     "output_type": "execute_result"
    }
   ],
   "source": [
    "model.fit(\n",
    "    X_train_scaled,\n",
    "    y_train_categorical,\n",
    "    epochs=100,\n",
    "    shuffle=True,\n",
    "    verbose=2\n",
    ")"
   ]
  },
  {
   "cell_type": "code",
   "execution_count": 18,
   "metadata": {},
   "outputs": [
    {
     "name": "stdout",
     "output_type": "stream",
     "text": [
      "Model: \"sequential\"\n",
      "_________________________________________________________________\n",
      "Layer (type)                 Output Shape              Param #   \n",
      "=================================================================\n",
      "dense (Dense)                (None, 87)                2610      \n",
      "_________________________________________________________________\n",
      "dense_1 (Dense)              (None, 2)                 176       \n",
      "=================================================================\n",
      "Total params: 2,786\n",
      "Trainable params: 2,786\n",
      "Non-trainable params: 0\n",
      "_________________________________________________________________\n"
     ]
    }
   ],
   "source": [
    "model.summary()"
   ]
  },
  {
   "cell_type": "code",
   "execution_count": 20,
   "metadata": {},
   "outputs": [],
   "source": [
    "#model.save(\"sal_trained.h5\") already exists.\n",
    "model.save(\"sal_trained2.h5\")"
   ]
  },
  {
   "cell_type": "code",
   "execution_count": null,
   "metadata": {},
   "outputs": [],
   "source": [
    "#model.save(\"sal_trained.h5\") already exists."
   ]
  },
  {
   "cell_type": "code",
   "execution_count": 21,
   "metadata": {},
   "outputs": [],
   "source": [
    "deep_model = Sequential()\n",
    "deep_model.add(Dense(units=87, activation='relu', input_dim=2))\n",
    "deep_model.add(Dense(units=87, activation='relu'))\n",
    "deep_model.add(Dense(units=2, activation='softmax'))"
   ]
  },
  {
   "cell_type": "code",
   "execution_count": 22,
   "metadata": {},
   "outputs": [
    {
     "ename": "ValueError",
     "evalue": "Error when checking input: expected dense_2_input to have shape (2,) but got array with shape (29,)",
     "output_type": "error",
     "traceback": [
      "\u001b[1;31m---------------------------------------------------------------------------\u001b[0m",
      "\u001b[1;31mValueError\u001b[0m                                Traceback (most recent call last)",
      "\u001b[1;32m<ipython-input-22-2c1a891133b4>\u001b[0m in \u001b[0;36m<module>\u001b[1;34m\u001b[0m\n\u001b[0;32m      8\u001b[0m     \u001b[0mepochs\u001b[0m\u001b[1;33m=\u001b[0m\u001b[1;36m200\u001b[0m\u001b[1;33m,\u001b[0m\u001b[1;33m\u001b[0m\u001b[1;33m\u001b[0m\u001b[0m\n\u001b[0;32m      9\u001b[0m     \u001b[0mshuffle\u001b[0m\u001b[1;33m=\u001b[0m\u001b[1;32mTrue\u001b[0m\u001b[1;33m,\u001b[0m\u001b[1;33m\u001b[0m\u001b[1;33m\u001b[0m\u001b[0m\n\u001b[1;32m---> 10\u001b[1;33m     \u001b[0mverbose\u001b[0m\u001b[1;33m=\u001b[0m\u001b[1;36m2\u001b[0m\u001b[1;33m\u001b[0m\u001b[1;33m\u001b[0m\u001b[0m\n\u001b[0m\u001b[0;32m     11\u001b[0m )\n",
      "\u001b[1;32m~\\anaconda3\\envs\\PythonAdv\\lib\\site-packages\\tensorflow_core\\python\\keras\\engine\\training.py\u001b[0m in \u001b[0;36mfit\u001b[1;34m(self, x, y, batch_size, epochs, verbose, callbacks, validation_split, validation_data, shuffle, class_weight, sample_weight, initial_epoch, steps_per_epoch, validation_steps, validation_freq, max_queue_size, workers, use_multiprocessing, **kwargs)\u001b[0m\n\u001b[0;32m    817\u001b[0m         \u001b[0mmax_queue_size\u001b[0m\u001b[1;33m=\u001b[0m\u001b[0mmax_queue_size\u001b[0m\u001b[1;33m,\u001b[0m\u001b[1;33m\u001b[0m\u001b[1;33m\u001b[0m\u001b[0m\n\u001b[0;32m    818\u001b[0m         \u001b[0mworkers\u001b[0m\u001b[1;33m=\u001b[0m\u001b[0mworkers\u001b[0m\u001b[1;33m,\u001b[0m\u001b[1;33m\u001b[0m\u001b[1;33m\u001b[0m\u001b[0m\n\u001b[1;32m--> 819\u001b[1;33m         use_multiprocessing=use_multiprocessing)\n\u001b[0m\u001b[0;32m    820\u001b[0m \u001b[1;33m\u001b[0m\u001b[0m\n\u001b[0;32m    821\u001b[0m   def evaluate(self,\n",
      "\u001b[1;32m~\\anaconda3\\envs\\PythonAdv\\lib\\site-packages\\tensorflow_core\\python\\keras\\engine\\training_v2.py\u001b[0m in \u001b[0;36mfit\u001b[1;34m(self, model, x, y, batch_size, epochs, verbose, callbacks, validation_split, validation_data, shuffle, class_weight, sample_weight, initial_epoch, steps_per_epoch, validation_steps, validation_freq, max_queue_size, workers, use_multiprocessing, **kwargs)\u001b[0m\n\u001b[0;32m    233\u001b[0m           \u001b[0mmax_queue_size\u001b[0m\u001b[1;33m=\u001b[0m\u001b[0mmax_queue_size\u001b[0m\u001b[1;33m,\u001b[0m\u001b[1;33m\u001b[0m\u001b[1;33m\u001b[0m\u001b[0m\n\u001b[0;32m    234\u001b[0m           \u001b[0mworkers\u001b[0m\u001b[1;33m=\u001b[0m\u001b[0mworkers\u001b[0m\u001b[1;33m,\u001b[0m\u001b[1;33m\u001b[0m\u001b[1;33m\u001b[0m\u001b[0m\n\u001b[1;32m--> 235\u001b[1;33m           use_multiprocessing=use_multiprocessing)\n\u001b[0m\u001b[0;32m    236\u001b[0m \u001b[1;33m\u001b[0m\u001b[0m\n\u001b[0;32m    237\u001b[0m       \u001b[0mtotal_samples\u001b[0m \u001b[1;33m=\u001b[0m \u001b[0m_get_total_number_of_samples\u001b[0m\u001b[1;33m(\u001b[0m\u001b[0mtraining_data_adapter\u001b[0m\u001b[1;33m)\u001b[0m\u001b[1;33m\u001b[0m\u001b[1;33m\u001b[0m\u001b[0m\n",
      "\u001b[1;32m~\\anaconda3\\envs\\PythonAdv\\lib\\site-packages\\tensorflow_core\\python\\keras\\engine\\training_v2.py\u001b[0m in \u001b[0;36m_process_training_inputs\u001b[1;34m(model, x, y, batch_size, epochs, sample_weights, class_weights, steps_per_epoch, validation_split, validation_data, validation_steps, shuffle, distribution_strategy, max_queue_size, workers, use_multiprocessing)\u001b[0m\n\u001b[0;32m    591\u001b[0m         \u001b[0mmax_queue_size\u001b[0m\u001b[1;33m=\u001b[0m\u001b[0mmax_queue_size\u001b[0m\u001b[1;33m,\u001b[0m\u001b[1;33m\u001b[0m\u001b[1;33m\u001b[0m\u001b[0m\n\u001b[0;32m    592\u001b[0m         \u001b[0mworkers\u001b[0m\u001b[1;33m=\u001b[0m\u001b[0mworkers\u001b[0m\u001b[1;33m,\u001b[0m\u001b[1;33m\u001b[0m\u001b[1;33m\u001b[0m\u001b[0m\n\u001b[1;32m--> 593\u001b[1;33m         use_multiprocessing=use_multiprocessing)\n\u001b[0m\u001b[0;32m    594\u001b[0m     \u001b[0mval_adapter\u001b[0m \u001b[1;33m=\u001b[0m \u001b[1;32mNone\u001b[0m\u001b[1;33m\u001b[0m\u001b[1;33m\u001b[0m\u001b[0m\n\u001b[0;32m    595\u001b[0m     \u001b[1;32mif\u001b[0m \u001b[0mvalidation_data\u001b[0m\u001b[1;33m:\u001b[0m\u001b[1;33m\u001b[0m\u001b[1;33m\u001b[0m\u001b[0m\n",
      "\u001b[1;32m~\\anaconda3\\envs\\PythonAdv\\lib\\site-packages\\tensorflow_core\\python\\keras\\engine\\training_v2.py\u001b[0m in \u001b[0;36m_process_inputs\u001b[1;34m(model, mode, x, y, batch_size, epochs, sample_weights, class_weights, shuffle, steps, distribution_strategy, max_queue_size, workers, use_multiprocessing)\u001b[0m\n\u001b[0;32m    644\u001b[0m     \u001b[0mstandardize_function\u001b[0m \u001b[1;33m=\u001b[0m \u001b[1;32mNone\u001b[0m\u001b[1;33m\u001b[0m\u001b[1;33m\u001b[0m\u001b[0m\n\u001b[0;32m    645\u001b[0m     x, y, sample_weights = standardize(\n\u001b[1;32m--> 646\u001b[1;33m         x, y, sample_weight=sample_weights)\n\u001b[0m\u001b[0;32m    647\u001b[0m   \u001b[1;32melif\u001b[0m \u001b[0madapter_cls\u001b[0m \u001b[1;32mis\u001b[0m \u001b[0mdata_adapter\u001b[0m\u001b[1;33m.\u001b[0m\u001b[0mListsOfScalarsDataAdapter\u001b[0m\u001b[1;33m:\u001b[0m\u001b[1;33m\u001b[0m\u001b[1;33m\u001b[0m\u001b[0m\n\u001b[0;32m    648\u001b[0m     \u001b[0mstandardize_function\u001b[0m \u001b[1;33m=\u001b[0m \u001b[0mstandardize\u001b[0m\u001b[1;33m\u001b[0m\u001b[1;33m\u001b[0m\u001b[0m\n",
      "\u001b[1;32m~\\anaconda3\\envs\\PythonAdv\\lib\\site-packages\\tensorflow_core\\python\\keras\\engine\\training.py\u001b[0m in \u001b[0;36m_standardize_user_data\u001b[1;34m(self, x, y, sample_weight, class_weight, batch_size, check_steps, steps_name, steps, validation_split, shuffle, extract_tensors_from_dataset)\u001b[0m\n\u001b[0;32m   2381\u001b[0m         \u001b[0mis_dataset\u001b[0m\u001b[1;33m=\u001b[0m\u001b[0mis_dataset\u001b[0m\u001b[1;33m,\u001b[0m\u001b[1;33m\u001b[0m\u001b[1;33m\u001b[0m\u001b[0m\n\u001b[0;32m   2382\u001b[0m         \u001b[0mclass_weight\u001b[0m\u001b[1;33m=\u001b[0m\u001b[0mclass_weight\u001b[0m\u001b[1;33m,\u001b[0m\u001b[1;33m\u001b[0m\u001b[1;33m\u001b[0m\u001b[0m\n\u001b[1;32m-> 2383\u001b[1;33m         batch_size=batch_size)\n\u001b[0m\u001b[0;32m   2384\u001b[0m \u001b[1;33m\u001b[0m\u001b[0m\n\u001b[0;32m   2385\u001b[0m   def _standardize_tensors(self, x, y, sample_weight, run_eagerly, dict_inputs,\n",
      "\u001b[1;32m~\\anaconda3\\envs\\PythonAdv\\lib\\site-packages\\tensorflow_core\\python\\keras\\engine\\training.py\u001b[0m in \u001b[0;36m_standardize_tensors\u001b[1;34m(self, x, y, sample_weight, run_eagerly, dict_inputs, is_dataset, class_weight, batch_size)\u001b[0m\n\u001b[0;32m   2408\u001b[0m           \u001b[0mfeed_input_shapes\u001b[0m\u001b[1;33m,\u001b[0m\u001b[1;33m\u001b[0m\u001b[1;33m\u001b[0m\u001b[0m\n\u001b[0;32m   2409\u001b[0m           \u001b[0mcheck_batch_axis\u001b[0m\u001b[1;33m=\u001b[0m\u001b[1;32mFalse\u001b[0m\u001b[1;33m,\u001b[0m  \u001b[1;31m# Don't enforce the batch size.\u001b[0m\u001b[1;33m\u001b[0m\u001b[1;33m\u001b[0m\u001b[0m\n\u001b[1;32m-> 2410\u001b[1;33m           exception_prefix='input')\n\u001b[0m\u001b[0;32m   2411\u001b[0m \u001b[1;33m\u001b[0m\u001b[0m\n\u001b[0;32m   2412\u001b[0m     \u001b[1;31m# Get typespecs for the input data and sanitize it if necessary.\u001b[0m\u001b[1;33m\u001b[0m\u001b[1;33m\u001b[0m\u001b[1;33m\u001b[0m\u001b[0m\n",
      "\u001b[1;32m~\\anaconda3\\envs\\PythonAdv\\lib\\site-packages\\tensorflow_core\\python\\keras\\engine\\training_utils.py\u001b[0m in \u001b[0;36mstandardize_input_data\u001b[1;34m(data, names, shapes, check_batch_axis, exception_prefix)\u001b[0m\n\u001b[0;32m    580\u001b[0m                              \u001b[1;34m': expected '\u001b[0m \u001b[1;33m+\u001b[0m \u001b[0mnames\u001b[0m\u001b[1;33m[\u001b[0m\u001b[0mi\u001b[0m\u001b[1;33m]\u001b[0m \u001b[1;33m+\u001b[0m \u001b[1;34m' to have shape '\u001b[0m \u001b[1;33m+\u001b[0m\u001b[1;33m\u001b[0m\u001b[1;33m\u001b[0m\u001b[0m\n\u001b[0;32m    581\u001b[0m                              \u001b[0mstr\u001b[0m\u001b[1;33m(\u001b[0m\u001b[0mshape\u001b[0m\u001b[1;33m)\u001b[0m \u001b[1;33m+\u001b[0m \u001b[1;34m' but got array with shape '\u001b[0m \u001b[1;33m+\u001b[0m\u001b[1;33m\u001b[0m\u001b[1;33m\u001b[0m\u001b[0m\n\u001b[1;32m--> 582\u001b[1;33m                              str(data_shape))\n\u001b[0m\u001b[0;32m    583\u001b[0m   \u001b[1;32mreturn\u001b[0m \u001b[0mdata\u001b[0m\u001b[1;33m\u001b[0m\u001b[1;33m\u001b[0m\u001b[0m\n\u001b[0;32m    584\u001b[0m \u001b[1;33m\u001b[0m\u001b[0m\n",
      "\u001b[1;31mValueError\u001b[0m: Error when checking input: expected dense_2_input to have shape (2,) but got array with shape (29,)"
     ]
    }
   ],
   "source": [
    "deep_model.compile(optimizer='adam',\n",
    "                   loss='categorical_crossentropy',\n",
    "                   metrics=['accuracy'])\n",
    "\n",
    "deep_model.fit(\n",
    "    X_train_scaled,\n",
    "    y_train_categorical,\n",
    "    epochs=200,\n",
    "    shuffle=True,\n",
    "    verbose=2\n",
    ")"
   ]
  },
  {
   "cell_type": "code",
   "execution_count": null,
   "metadata": {},
   "outputs": [],
   "source": []
  }
 ],
 "metadata": {
  "kernelspec": {
   "display_name": "Python 3",
   "language": "python",
   "name": "python3"
  },
  "language_info": {
   "codemirror_mode": {
    "name": "ipython",
    "version": 3
   },
   "file_extension": ".py",
   "mimetype": "text/x-python",
   "name": "python",
   "nbconvert_exporter": "python",
   "pygments_lexer": "ipython3",
   "version": "3.6.10"
  }
 },
 "nbformat": 4,
 "nbformat_minor": 4
}
